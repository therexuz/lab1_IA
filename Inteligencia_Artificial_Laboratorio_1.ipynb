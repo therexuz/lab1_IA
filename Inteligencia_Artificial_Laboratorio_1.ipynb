{
  "cells": [
    {
      "cell_type": "markdown",
      "metadata": {
        "id": "9oTrFjt3BBRV"
      },
      "source": [
        "El laboratorio se dividirá en 2 secciones.\n",
        "En la primera sección tendrán que definir las funciones necesarias para explorar un problema desde un estado inicial y reconocer si este estado es el estado final.(15 pts)\n",
        "\n",
        "En la segunda sección se tendrá que implementar un algoritmo de búsqueda informado, el cual nos permita obtener el path desde un estado inicial hasta un estado final.(35 pts)\n",
        "\n",
        "Finalmente, se asignará un puntaje de entre 0 y 10 puntos por la cantidad/calidad de los comentarios que se agreguen al código explicando cada uno de sus componentes. \n",
        "\n",
        "El Laboratorio deberá ser trabajado en grupos de entre 3 (min) y 5(max) estudiantes. La fecha de entrega del Lab 1 es el 24/04. La entrega se realizará a través del aula, antes de las 23.59 del dia 24/04."
      ]
    },
    {
      "cell_type": "markdown",
      "metadata": {
        "id": "Q72qMN3yBNQy"
      },
      "source": [
        "#Instalación de librerías necesarias"
      ]
    },
    {
      "cell_type": "code",
      "execution_count": 1166,
      "metadata": {
        "id": "MxuWl5XwBaJK"
      },
      "outputs": [],
      "source": [
        "import numpy as np"
      ]
    },
    {
      "cell_type": "markdown",
      "metadata": {
        "id": "wsW_lxUfP92_"
      },
      "source": [
        "#**Seccion 1**"
      ]
    },
    {
      "cell_type": "markdown",
      "metadata": {
        "id": "GRig5k7-E96R"
      },
      "source": [
        "#Estado\n",
        "\n",
        "En el siguiente cuadro se muestra el estado inicial del problema. Cada estado se compone de una matriz de tamaño 16x16. Los elementos de esta matriz pueden variar entre los valores 0 y 1 (Una matriz binaria)."
      ]
    },
    {
      "cell_type": "code",
      "execution_count": 1167,
      "metadata": {
        "id": "UkemdI51C03F"
      },
      "outputs": [],
      "source": [
        "# Set a random seed for reproducibility\n",
        "np.random.seed(123)\n",
        "\n",
        "# Generate a 16x16 matrix of random values between 0 and 1\n",
        "initial_state = np.random.randint(2, size=(16,16))\n"
      ]
    },
    {
      "cell_type": "code",
      "execution_count": 1168,
      "metadata": {
        "id": "KOPPspl9Jb0V"
      },
      "outputs": [],
      "source": [
        "# function that print a given matrix\n",
        "def print_matrix(state):\n",
        "  for row in state:\n",
        "    print(row)"
      ]
    },
    {
      "cell_type": "code",
      "execution_count": 1169,
      "metadata": {
        "colab": {
          "base_uri": "https://localhost:8080/"
        },
        "id": "cS65DyMDJeIK",
        "outputId": "14dd94ff-b726-465a-8498-55e978e24302"
      },
      "outputs": [
        {
          "name": "stdout",
          "output_type": "stream",
          "text": [
            "[0 1 0 0 0 0 0 1 1 0 1 1 0 1 0 1]\n",
            "[0 1 1 0 0 0 1 1 1 0 1 0 0 0 0 1]\n",
            "[1 1 0 0 1 0 0 1 0 1 0 1 1 1 0 0]\n",
            "[0 0 1 1 0 0 1 0 1 0 0 1 0 1 0 1]\n",
            "[0 0 0 0 1 0 0 1 1 1 1 0 0 0 0 1]\n",
            "[1 0 0 0 0 1 0 1 1 0 1 1 1 0 1 1]\n",
            "[1 0 0 0 1 0 0 1 1 1 0 1 1 0 0 1]\n",
            "[1 0 1 1 1 1 1 1 1 0 1 1 1 1 0 0]\n",
            "[0 1 1 0 0 1 1 0 0 0 1 0 1 1 0 0]\n",
            "[1 0 1 1 1 1 0 1 0 1 0 0 1 1 0 1]\n",
            "[1 1 0 1 1 1 1 0 0 1 1 0 0 1 0 0]\n",
            "[0 1 0 1 1 0 0 0 1 0 0 1 0 0 1 0]\n",
            "[0 1 0 0 0 0 1 0 1 1 0 0 0 1 0 0]\n",
            "[0 1 0 0 0 1 0 1 1 1 1 0 1 1 1 1]\n",
            "[0 0 1 1 1 1 1 0 0 1 1 1 0 1 0 0]\n",
            "[0 1 1 1 0 1 0 0 1 1 1 0 1 1 0 0]\n"
          ]
        }
      ],
      "source": [
        "print_matrix(initial_state)"
      ]
    },
    {
      "cell_type": "markdown",
      "metadata": {
        "id": "CDXQn8yEIUID"
      },
      "source": [
        "#Acción\n",
        "Para este estado se define que una accion es intercambiar el valor de un elemento de tal forma que:\n",
        "\n",
        "*   Si el elemento tiene un valor 1 se le asigna un valor 0\n",
        "*   Si el elemento tiene un valor 0 se le asigna un valor 1\n",
        "\n",
        "El siguiente codigo muestra como se realoza una acción en el elemento [0,0] del estado inicial."
      ]
    },
    {
      "cell_type": "code",
      "execution_count": 1170,
      "metadata": {
        "colab": {
          "base_uri": "https://localhost:8080/"
        },
        "id": "zSB9nzPcIP3i",
        "outputId": "3db022b8-5d04-46e6-e7e5-1c7de753f6c7"
      },
      "outputs": [
        {
          "name": "stdout",
          "output_type": "stream",
          "text": [
            "[1 1 0 0 0 0 0 1 1 0 1 1 0 1 0 1]\n",
            "[0 1 1 0 0 0 1 1 1 0 1 0 0 0 0 1]\n",
            "[1 1 0 0 1 0 0 1 0 1 0 1 1 1 0 0]\n",
            "[0 0 1 1 0 0 1 0 1 0 0 1 0 1 0 1]\n",
            "[0 0 0 0 1 0 0 1 1 1 1 0 0 0 0 1]\n",
            "[1 0 0 0 0 1 0 1 1 0 1 1 1 0 1 1]\n",
            "[1 0 0 0 1 0 0 1 1 1 0 1 1 0 0 1]\n",
            "[1 0 1 1 1 1 1 1 1 0 1 1 1 1 0 0]\n",
            "[0 1 1 0 0 1 1 0 0 0 1 0 1 1 0 0]\n",
            "[1 0 1 1 1 1 0 1 0 1 0 0 1 1 0 1]\n",
            "[1 1 0 1 1 1 1 0 0 1 1 0 0 1 0 0]\n",
            "[0 1 0 1 1 0 0 0 1 0 0 1 0 0 1 0]\n",
            "[0 1 0 0 0 0 1 0 1 1 0 0 0 1 0 0]\n",
            "[0 1 0 0 0 1 0 1 1 1 1 0 1 1 1 1]\n",
            "[0 0 1 1 1 1 1 0 0 1 1 1 0 1 0 0]\n",
            "[0 1 1 1 0 1 0 0 1 1 1 0 1 1 0 0]\n"
          ]
        }
      ],
      "source": [
        "copy_initial_state = np.copy(initial_state)\n",
        "copy_initial_state[0, 0] = 1\n",
        "print_matrix(copy_initial_state)"
      ]
    },
    {
      "cell_type": "markdown",
      "metadata": {
        "id": "aSegcZ3NEpoT"
      },
      "source": [
        "En base a esto se pide completar la funcóon *expand_node(state)*. Donde la funcion retorna una lista de todos los hijos que se pueden generar de un estado state dado. (10 pts)"
      ]
    },
    {
      "cell_type": "code",
      "execution_count": 1171,
      "metadata": {
        "id": "OXt-YAUMKswe"
      },
      "outputs": [],
      "source": [
        "def expand_node(state):\n",
        "    # Crear una lista vacía para almacenar los hijos generados\n",
        "    children = []\n",
        "\n",
        "    # Crear una copia del estado original\n",
        "    new_state = state.copy()\n",
        "\n",
        "    # Generar un hijo para cada elemento de la matriz\n",
        "    for i in range(state.shape[0]):\n",
        "        for j in range(state.shape[1]):\n",
        "            # Intercambiar el valor del elemento en la copia de la matriz\n",
        "            new_state = swap_element(new_state, i, j)\n",
        "\n",
        "            # Agregar la copia actualizada a la lista de hijos\n",
        "            children.append(new_state.copy())\n",
        "\n",
        "            # Restaurar el valor original del elemento en la copia de la matriz\n",
        "            new_state = swap_element(new_state, i, j)\n",
        "\n",
        "    # Devolver la lista de hijos generados\n",
        "    return children\n",
        "\n",
        "def swap_element(matrix, row_idx, col_idx):\n",
        "    if matrix[row_idx, col_idx] == 1:\n",
        "        matrix[row_idx, col_idx] = 0\n",
        "    else:\n",
        "        matrix[row_idx, col_idx] = 1\n",
        "    return matrix\n",
        "\n",
        "children = expand_node(initial_state)"
      ]
    },
    {
      "cell_type": "markdown",
      "metadata": {
        "id": "EAntoJQUEnkJ"
      },
      "source": [
        "\n",
        "\n",
        "\n",
        "# Estado Meta\n",
        "\n",
        "Para el ejercicio se considera como estado meta (o final) la matriz que se genera al usar la semilla 124 en numpy. La cual se muestra a continuación.\n",
        "\n"
      ]
    },
    {
      "cell_type": "code",
      "execution_count": 1172,
      "metadata": {
        "colab": {
          "base_uri": "https://localhost:8080/"
        },
        "id": "ATs62so4D8tW",
        "outputId": "022c9926-644a-42e7-da69-3166ab3f9fa2"
      },
      "outputs": [
        {
          "name": "stdout",
          "output_type": "stream",
          "text": [
            "[0 0 1 1 0 1 0 0 0 0 0 1 1 0 0 1]\n",
            "[1 0 0 0 0 0 1 1 1 0 0 0 1 1 1 1]\n",
            "[1 1 1 0 0 0 1 1 1 0 0 1 1 1 1 1]\n",
            "[0 1 0 0 0 1 0 1 1 0 0 1 1 0 1 0]\n",
            "[0 0 1 0 1 0 1 0 0 0 0 0 0 0 1 1]\n",
            "[1 0 0 1 0 0 1 0 0 1 1 0 0 0 1 0]\n",
            "[0 1 1 0 1 0 0 1 0 1 1 1 0 1 1 1]\n",
            "[0 0 1 0 1 1 0 1 0 0 1 0 1 0 0 0]\n",
            "[0 1 0 1 1 0 1 0 0 1 0 0 0 1 1 1]\n",
            "[1 0 0 0 1 1 0 0 0 0 1 0 1 1 1 0]\n",
            "[1 0 0 0 0 1 0 0 1 1 1 1 0 1 1 1]\n",
            "[1 1 1 1 1 1 0 1 1 1 1 0 1 0 1 1]\n",
            "[1 1 1 1 1 0 0 0 0 1 0 0 1 0 0 1]\n",
            "[0 0 1 1 1 1 1 0 1 1 1 1 1 1 1 1]\n",
            "[0 1 1 1 0 0 1 1 1 1 0 0 0 0 1 1]\n",
            "[0 1 0 1 0 1 1 1 0 0 0 1 1 1 0 0]\n"
          ]
        }
      ],
      "source": [
        "# Set a random seed for reproducibility\n",
        "np.random.seed(124)\n",
        "\n",
        "# Generate a 16x16 matrix of random values between 0 and 1\n",
        "final_state = np.random.randint(2, size=(16,16))\n",
        "\n",
        "print_matrix(final_state)"
      ]
    },
    {
      "cell_type": "markdown",
      "metadata": {
        "id": "vXUgQBgZPMih"
      },
      "source": [
        "Teniendo este estado meta, se requiere que implemente la función *is_goal(state)*. la cual devuelve un valor booleano true si el estado state es el estado meta. En caso de que no sea el estado meta la funcion debera devolvera un valor booleano false. (5 pts)"
      ]
    },
    {
      "cell_type": "code",
      "execution_count": 1173,
      "metadata": {
        "id": "NDk6pCpNPCr5"
      },
      "outputs": [],
      "source": [
        "def is_goal(state):\n",
        "    return np.array_equal(state, final_state)"
      ]
    },
    {
      "cell_type": "markdown",
      "metadata": {
        "id": "nhjJElWFP6hz"
      },
      "source": [
        "#**Seccion 2**"
      ]
    },
    {
      "attachments": {},
      "cell_type": "markdown",
      "metadata": {
        "id": "3iU-phhvQO6Q"
      },
      "source": [
        "En esta esta seccion se debera implementar un algoritmo de busqueda. Para esto tendran que que implementar la función *evaluate(state)* la cual evalua el estado y retorna un el coste de este. Como recomendacion considere que cada elemento del estado el cual no sea igual al del estado meta incrementa en 1 el coste de este. (5 pts)"
      ]
    },
    {
      "cell_type": "code",
      "execution_count": 1174,
      "metadata": {
        "id": "xNAgTufFWvDE"
      },
      "outputs": [],
      "source": [
        "def evaluate_fitness(population):\n",
        "    \"\"\"\n",
        "    Evaluate the fitness of each individual in the population by comparing them to the final state.\n",
        "    \"\"\"\n",
        "    fitness_scores = []\n",
        "    for individual in population:\n",
        "        fitness = np.sum(individual == final_state)\n",
        "        fitness_scores.append(fitness)\n",
        "    return np.array(fitness_scores)"
      ]
    },
    {
      "cell_type": "markdown",
      "metadata": {
        "id": "Cokff8i8aMnn"
      },
      "source": [
        "Teniendo la función de evaluación ya desarrollada es posible implementar el algoritmo de busqueda informado. Para ello deberan escoger **una** (meta)heuristica* Y describir el algoritmo escogido cómo hemos descrito los algoritmos que hemos visto en clases. (15 pts)\n",
        "\n",
        "*Algunas opciones de (meta)heuristicas pueden ser local search, genetic algorithm, tabu search, simulates annealing entre otros.\n"
      ]
    },
    {
      "cell_type": "markdown",
      "metadata": {
        "id": "MotWp6Q5pFJw"
      },
      "source": [
        "Despues deberan implementar el algoritmo en la función *heuristic(initial_state)*. Esta función recibe como parámetro el estado inicial y debe retornar como salida el conjunto de acciones que permita ir desde el estado inicial hasta el estado final. (10 pts)"
      ]
    },
    {
      "cell_type": "code",
      "execution_count": 1175,
      "metadata": {},
      "outputs": [],
      "source": [
        "def is_goal(state, final_state):\n",
        "    \"\"\"Determina si el estado dado es el estado objetivo\"\"\"\n",
        "    return np.array_equal(state, final_state)\n"
      ]
    },
    {
      "cell_type": "code",
      "execution_count": 1176,
      "metadata": {},
      "outputs": [],
      "source": [
        "\n",
        "def fitness(state, final_state):\n",
        "    \"\"\"Evalúa la aptitud de un estado, retornando el número de elementos en común con el estado objetivo\"\"\"\n",
        "    return np.sum(state == final_state)\n"
      ]
    },
    {
      "cell_type": "code",
      "execution_count": 1177,
      "metadata": {},
      "outputs": [],
      "source": [
        "\n",
        "def select_parents(population, fitness_scores, tournament_size=3):\n",
        "    \"\"\"Selecciona los padres para el cruzamiento\"\"\"\n",
        "    parents = []\n",
        "    for i in range(2):\n",
        "        indices = np.random.choice(len(population), size=tournament_size, replace=False)\n",
        "        candidate_parents = population[indices]\n",
        "        candidate_fitness_scores = fitness_scores[indices]\n",
        "        winner_index = np.argmax(candidate_fitness_scores)\n",
        "        parents.append(candidate_parents[winner_index])\n",
        "    return parents\n"
      ]
    },
    {
      "cell_type": "code",
      "execution_count": 1178,
      "metadata": {},
      "outputs": [],
      "source": [
        "\n",
        "def crossover(parents):\n",
        "    \"\"\"Realiza el cruzamiento de dos padres\"\"\"\n",
        "    child = np.copy(parents[0])\n",
        "    crossover_point = np.random.randint(1, len(child)-1)\n",
        "    child[:crossover_point,:] = parents[1][:crossover_point,:]\n",
        "    return child\n"
      ]
    },
    {
      "cell_type": "code",
      "execution_count": 1179,
      "metadata": {},
      "outputs": [],
      "source": [
        "\n",
        "def mutate(child, mutation_rate):\n",
        "    \"\"\"Realiza la mutación de un hijo\"\"\"\n",
        "    for i in range(child.shape[0]):\n",
        "        for j in range(child.shape[1]):\n",
        "            if np.random.rand() < mutation_rate:\n",
        "                child[i, j] = 1 - child[i, j]\n",
        "    return child\n"
      ]
    },
    {
      "cell_type": "code",
      "execution_count": 1180,
      "metadata": {
        "id": "d0LMfu37Whgw"
      },
      "outputs": [],
      "source": [
        "\n",
        "def genetic_algorithm(population_size, mutation_rate, max_generations, initial_state, final_state):\n",
        "    \"\"\"Implementa el algoritmo genético para encontrar una solución al problema\"\"\"\n",
        "    population = np.array([initial_state] * population_size)\n",
        "    state_path_list = []\n",
        "    for generation in range(max_generations):\n",
        "        fitness_scores = np.array([fitness(state, final_state) for state in population])\n",
        "        if is_goal(population[np.argmax(fitness_scores)], final_state):\n",
        "            state_path_list.append(population[np.argmax(fitness_scores)])\n",
        "            return state_path_list\n",
        "        new_population = []\n",
        "        for i in range(population_size//2):\n",
        "            parents = select_parents(population, fitness_scores)\n",
        "            child = crossover(parents)\n",
        "            child = mutate(child, mutation_rate)\n",
        "            new_population.append(child)\n",
        "            new_population.append(np.copy(parents[0]))\n",
        "        population = np.array(new_population)\n",
        "        state_path_list.append(population[np.argmax(fitness_scores)])\n",
        "    return None\n"
      ]
    },
    {
      "cell_type": "code",
      "execution_count": 1181,
      "metadata": {},
      "outputs": [],
      "source": [
        "# def get_path(state, initial_state):\n",
        "#     \"\"\"Obtiene el camino de acciones para llegar desde el estado inicial al estado final\"\"\"\n",
        "#     path = []\n",
        "#     init_state_copy = np.copy(initial_state)\n",
        "#     while not np.array_equal(state, init_state_copy):\n",
        "#         for i in range(state.shape[0]):\n",
        "#             for j in range(state.shape[1]):\n",
        "#                 if state[i, j] != init_state_copy[i, j]:\n",
        "#                     init_state_copy[i, j] = 1 - init_state_copy[i, j]\n",
        "#                     path.append((i, j))\n",
        "#                     break\n",
        "#             else:\n",
        "#                 continue\n",
        "#             break\n",
        "#     return path"
      ]
    },
    {
      "cell_type": "markdown",
      "metadata": {
        "id": "t9w2w6TbcHcf"
      },
      "source": [
        "Ya implementado el algoritmo se pide mostrar en pantalla los estados recorridos desde el estado inicial hasta el estado final (se recomienda utilizar el camino mas corto que hayan encontrado). (5 pts)"
      ]
    },
    {
      "cell_type": "code",
      "execution_count": 1182,
      "metadata": {
        "colab": {
          "base_uri": "https://localhost:8080/"
        },
        "id": "691Zq0bFSFhy",
        "outputId": "3562699c-fde6-467a-d0b8-4d80e63f43b6"
      },
      "outputs": [
        {
          "name": "stdout",
          "output_type": "stream",
          "text": [
            "No hay solución dentro de las 1000 generaciones\n"
          ]
        }
      ],
      "source": [
        "# Set the parameters of the genetic algorithm\n",
        "population_size = 100\n",
        "mutation_rate = 0.05\n",
        "max_generations = 1000\n",
        "\n",
        "state_path_list = genetic_algorithm(population_size, mutation_rate, max_generations, initial_state, final_state)\n",
        "\n",
        "if state_path_list is not None:\n",
        "    print(\"Solución encontrada en la generación: \" + str(len(state_path_list)))\n",
        "else:\n",
        "    print('No hay solución dentro de las '+ str(max_generations) + ' generaciones' )"
      ]
    }
  ],
  "metadata": {
    "colab": {
      "provenance": []
    },
    "kernelspec": {
      "display_name": "Python 3",
      "name": "python3"
    },
    "language_info": {
      "codemirror_mode": {
        "name": "ipython",
        "version": 3
      },
      "file_extension": ".py",
      "mimetype": "text/x-python",
      "name": "python",
      "nbconvert_exporter": "python",
      "pygments_lexer": "ipython3",
      "version": "3.9.7"
    }
  },
  "nbformat": 4,
  "nbformat_minor": 0
}
